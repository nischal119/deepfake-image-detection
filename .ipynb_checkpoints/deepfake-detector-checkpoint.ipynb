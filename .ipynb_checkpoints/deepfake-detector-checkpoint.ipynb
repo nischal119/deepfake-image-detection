{
 "cells": [
  {
   "cell_type": "code",
   "execution_count": null,
   "id": "e7ffee39-3d6d-4fdd-9341-7437dcc72dd0",
   "metadata": {},
   "outputs": [],
   "source": [
    "image_dict ={}\n",
    "\n",
    "from pathlib import Path\n"
   ]
  }
 ],
 "metadata": {
  "kernelspec": {
   "display_name": "Python 3 (ipykernel)",
   "language": "python",
   "name": "python3"
  },
  "language_info": {
   "codemirror_mode": {
    "name": "ipython",
    "version": 3
   },
   "file_extension": ".py",
   "mimetype": "text/x-python",
   "name": "python",
   "nbconvert_exporter": "python",
   "pygments_lexer": "ipython3",
   "version": "3.12.8"
  }
 },
 "nbformat": 4,
 "nbformat_minor": 5
}
